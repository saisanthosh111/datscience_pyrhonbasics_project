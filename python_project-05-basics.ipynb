{
 "cells": [
  {
   "cell_type": "code",
   "execution_count": 5,
   "metadata": {},
   "outputs": [
    {
     "name": "stdout",
     "output_type": "stream",
     "text": [
      "enter the option that you want\n",
      "1)Addition\n",
      "2)subtraction\n",
      "3)multiplication\n",
      "4)division\n",
      "5)distance\n",
      "6)interest\n",
      "7)speed\n",
      "2\n",
      "Enter the number from which you have to subtract  8\n",
      "Enter the numbers with space that you want to subtract  1 2 3\n",
      "The result of subtraction is 2\n"
     ]
    }
   ],
   "source": [
    "def multiply(numbers):\n",
    "    m = 1\n",
    "    for i in numbers:\n",
    "        m = m * int(i)\n",
    "    return m\n",
    "if __name__==\"__main__\":\n",
    "    print(\"enter the option that you want\")\n",
    "    print(\"1)Addition\")\n",
    "    print(\"2)subtraction\")\n",
    "    print(\"3)multiplication\")\n",
    "    print(\"4)division\")\n",
    "    print(\"5)distance\")\n",
    "    print(\"6)interest\")\n",
    "    print(\"7)speed\")\n",
    "    option = int(input())\n",
    "    if option == 1:\n",
    "        numbers = input(\"Enter the numbers with space that you want to add  \").split(\" \")\n",
    "        print(\"The result of addition is \" +str(sum(int(i) for i in numbers)))\n",
    "    elif option == 2:\n",
    "        a = int(input(\"Enter the number from which you have to subtract  \"))\n",
    "        numbers = input(\"Enter the numbers with space that you want to subtract  \").split(\" \")\n",
    "        print(\"The result of subtraction is \"+str(a-sum(int(i) for i in numbers)))\n",
    "    elif option == 3:\n",
    "        numbers = input(\"Enter the numbers with space that you want to multiply \").split(\" \")\n",
    "        print(\"The result of muliplication is \"+str(multiply(numbers)))\n",
    "    elif option == 4:\n",
    "        a = float(input(\"Enter the dividend \"))\n",
    "        b = float(input(\"Enter the divisor \"))\n",
    "        print(\"The result of division is \"+str(a/b))\n",
    "    elif option == 5:\n",
    "        a = float(input(\"Enter the speed \"))\n",
    "        b = float(input(\"Enter the time \"))\n",
    "        print(\"The distance is \"+str(a*b))\n",
    "    elif option == 6:\n",
    "        a = float(input(\"Enter the principal \"))\n",
    "        b = float(input(\"Enter the rate \"))\n",
    "        c = float(input(\"Enter the time \"))\n",
    "        print(\"The interest is \"+str((a*b*c)/100))\n",
    "    else:\n",
    "        a = float(input(\"enter the distance \"))\n",
    "        b = float(input(\"enter the time \"))\n",
    "        print(\"The speed is \"+str(a/b))"
   ]
  },
  {
   "cell_type": "code",
   "execution_count": null,
   "metadata": {},
   "outputs": [],
   "source": []
  },
  {
   "cell_type": "code",
   "execution_count": null,
   "metadata": {},
   "outputs": [],
   "source": []
  }
 ],
 "metadata": {
  "kernelspec": {
   "display_name": "Python 3",
   "language": "python",
   "name": "python3"
  },
  "language_info": {
   "codemirror_mode": {
    "name": "ipython",
    "version": 3
   },
   "file_extension": ".py",
   "mimetype": "text/x-python",
   "name": "python",
   "nbconvert_exporter": "python",
   "pygments_lexer": "ipython3",
   "version": "3.7.4"
  }
 },
 "nbformat": 4,
 "nbformat_minor": 2
}
