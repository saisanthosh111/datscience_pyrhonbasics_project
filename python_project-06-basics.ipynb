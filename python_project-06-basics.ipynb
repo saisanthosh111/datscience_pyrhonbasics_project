{
 "cells": [
  {
   "cell_type": "code",
   "execution_count": null,
   "metadata": {},
   "outputs": [],
   "source": [
    "def Addition_digit(number):\n",
    "    add_digit = 0\n",
    "    for letter in str(number):\n",
    "        add_digit+=int(letter)\n",
    "    return add_digit\n",
    "\n",
    "def Multiplication_digit(number):\n",
    "    multiplication_digit = 0\n",
    "    for letter in str(number):\n",
    "        multiplication_digit*=int(letter)\n",
    "    return multiplication_digit\n",
    "\n",
    "if __name__==\"__main__\":\n",
    "    number = int(input(\"Enter the number that you want \"))\n",
    "    print(\"Enter the option that you want \")\n",
    "    print(\"1)Add all the digits of number \")\n",
    "    print(\"2)multiply all the digits of number \")\n",
    "    option  = int(input())\n",
    "    if option == 1:\n",
    "        print(\"The result of addition of digits of {} is {}\".format(number,Addition_digit(number)))\n",
    "    else:\n",
    "        print(\"The result of multiplcation of digits of {} is {}\".format(number,Multiplication_digit(number)))"
   ]
  },
  {
   "cell_type": "code",
   "execution_count": null,
   "metadata": {},
   "outputs": [],
   "source": []
  },
  {
   "cell_type": "code",
   "execution_count": null,
   "metadata": {},
   "outputs": [],
   "source": []
  }
 ],
 "metadata": {
  "kernelspec": {
   "display_name": "Python 3",
   "language": "python",
   "name": "python3"
  },
  "language_info": {
   "codemirror_mode": {
    "name": "ipython",
    "version": 3
   },
   "file_extension": ".py",
   "mimetype": "text/x-python",
   "name": "python",
   "nbconvert_exporter": "python",
   "pygments_lexer": "ipython3",
   "version": "3.7.4"
  }
 },
 "nbformat": 4,
 "nbformat_minor": 2
}
