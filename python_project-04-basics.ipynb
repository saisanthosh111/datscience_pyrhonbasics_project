{
 "cells": [
  {
   "cell_type": "code",
   "execution_count": 3,
   "metadata": {},
   "outputs": [
    {
     "name": "stdout",
     "output_type": "stream",
     "text": [
      "Enter the shape for which you want to calculate\n",
      "1)square\n",
      "2)Rhombus\n",
      "3)rectangle\n",
      "4)parallelogram\n",
      "2\n",
      "False\n",
      "Enter the option that you want\n",
      "1)Area\n",
      "2)perimeter\n",
      "1\n",
      "Please enter the side length\n",
      "4\n",
      "The Area of rhombus is 8.0\n"
     ]
    }
   ],
   "source": [
    "def Perimeter(length,breadth):\n",
    "    return 2*(length+breadth)\n",
    "\n",
    "def Area(length,breadth):\n",
    "    return length*breadth\n",
    "\n",
    "\n",
    "if __name__==\"__main__\":\n",
    "    print(\"Enter the shape for which you want to calculate\")\n",
    "    print(\"1)square\")\n",
    "    print(\"2)Rhombus\")\n",
    "    print(\"3)rectangle\")\n",
    "    print(\"4)parallelogram\")\n",
    "    shape = int(input())\n",
    "    print(shape==1)\n",
    "    print(\"Enter the option that you want\")\n",
    "    print(\"1)Area\")\n",
    "    print(\"2)perimeter\")\n",
    "    properities = int(input())\n",
    "    if (shape==1 or shape==2):\n",
    "        print(\"Please enter the side length\")\n",
    "        side = int(input())\n",
    "        if properities == 1:\n",
    "            if shape==1:\n",
    "                print(\"The Area of square is {}\".format(Area(side,side)))\n",
    "            else:\n",
    "                print(\"The Area of rhombus is {}\".format(1/2*Area(side,side)))\n",
    "        else:\n",
    "            print(\"The perimeter is \".format(side,side))\n",
    "    else:\n",
    "        print(\"Please enter the length\")\n",
    "        length = int(input())\n",
    "        print(\"please enter the breadth\")\n",
    "        breadth = int(input())\n",
    "        if properities == 1:\n",
    "            print(\"The area is \".format(Area(length,breadth)))\n",
    "        else:\n",
    "            print(\"The perimeter is \".format(Perimeter(length,breadth)))"
   ]
  },
  {
   "cell_type": "code",
   "execution_count": null,
   "metadata": {},
   "outputs": [],
   "source": []
  },
  {
   "cell_type": "code",
   "execution_count": null,
   "metadata": {},
   "outputs": [],
   "source": []
  }
 ],
 "metadata": {
  "kernelspec": {
   "display_name": "Python 3",
   "language": "python",
   "name": "python3"
  },
  "language_info": {
   "codemirror_mode": {
    "name": "ipython",
    "version": 3
   },
   "file_extension": ".py",
   "mimetype": "text/x-python",
   "name": "python",
   "nbconvert_exporter": "python",
   "pygments_lexer": "ipython3",
   "version": "3.7.4"
  }
 },
 "nbformat": 4,
 "nbformat_minor": 2
}
