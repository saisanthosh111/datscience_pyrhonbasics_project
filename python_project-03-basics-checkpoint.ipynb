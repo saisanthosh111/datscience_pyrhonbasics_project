{
 "cells": [
  {
   "cell_type": "code",
   "execution_count": 27,
   "metadata": {},
   "outputs": [
    {
     "name": "stdout",
     "output_type": "stream",
     "text": [
      "Enter the string elements seperated by ,\n",
      "Name Error,is the,Best,E-learning,Platform\n",
      "**************\n",
      "* Name Error *\n",
      "*   is the   *\n",
      "*    Best    *\n",
      "* E-learning *\n",
      "*  Platform  *\n",
      "**************\n"
     ]
    }
   ],
   "source": [
    "\n",
    "if __name__==\"__main__\":\n",
    "    b=\"\"\n",
    "    string_list = (input(\"Enter the string elements seperated by ,\\n\")).split(\",\")\n",
    "    max_length = max(len(string_word) for string_word in string_list)\n",
    "    print(b.center(max_length+4,\"*\"))\n",
    "    for i in string_list:\n",
    "        print(\"*\"+i.center(max_length+2,\" \")+\"*\")\n",
    "    print(b.center(max_length+4,\"*\"))"
   ]
  },
  {
   "cell_type": "code",
   "execution_count": null,
   "metadata": {},
   "outputs": [],
   "source": []
  }
 ],
 "metadata": {
  "kernelspec": {
   "display_name": "Python 3",
   "language": "python",
   "name": "python3"
  },
  "language_info": {
   "codemirror_mode": {
    "name": "ipython",
    "version": 3
   },
   "file_extension": ".py",
   "mimetype": "text/x-python",
   "name": "python",
   "nbconvert_exporter": "python",
   "pygments_lexer": "ipython3",
   "version": "3.7.4"
  }
 },
 "nbformat": 4,
 "nbformat_minor": 2
}
