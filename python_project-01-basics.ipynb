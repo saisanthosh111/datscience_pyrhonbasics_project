{
 "cells": [
  {
   "cell_type": "code",
   "execution_count": 7,
   "metadata": {},
   "outputs": [
    {
     "name": "stdout",
     "output_type": "stream",
     "text": [
      "Enter the number from where you want the leap years\n",
      "1000\n",
      "The leap years form the given year 1000 and sum greater than 16 are \n",
      "1088\n",
      "1188\n",
      "1196\n",
      "1268\n",
      "1288\n",
      "1296\n",
      "1368\n",
      "1376\n",
      "1388\n",
      "1396\n",
      "1448\n",
      "1468\n",
      "1476\n",
      "1484\n",
      "1488\n",
      "1496\n",
      "1548\n",
      "1556\n",
      "1568\n",
      "1576\n"
     ]
    }
   ],
   "source": [
    "def Check_sum_year(year):\n",
    "    \n",
    "    year_digit_sum=0\n",
    "    for i in str(year):\n",
    "        year_digit_sum+=int(i)\n",
    "    if year_digit_sum > 16:\n",
    "        return True\n",
    "    return False\n",
    "    \n",
    "def Check_leap_year(year):\n",
    "    sum_of_digits = Check_sum_year(year)\n",
    "    if sum_of_digits == False:\n",
    "        return False\n",
    "    if  year%400 == 0:\n",
    "        return True\n",
    "    if((year%100 != 0) and (year%4 == 0)):\n",
    "        return True\n",
    "    return False\n",
    "\n",
    "def Check_leap_year_sum(year):\n",
    "    initial_count = 0\n",
    "    year_list=[]\n",
    "    while(initial_count<20):\n",
    "        if Check_leap_year(year):\n",
    "            year_list.append(year)\n",
    "            initial_count+=1\n",
    "        year+=1\n",
    "    return year_list\n",
    "\n",
    "if __name__==\"__main__\":\n",
    "    year = int(input(\"Enter the number from where you want the leap years\\n\"))\n",
    "    leapyears = Check_leap_year_sum(year)\n",
    "    print(\"The leap years form the given year {} and sum greater than 16 are \".format(year))\n",
    "    for i in leapyears:\n",
    "        print(i)"
   ]
  },
  {
   "cell_type": "code",
   "execution_count": null,
   "metadata": {},
   "outputs": [],
   "source": []
  }
 ],
 "metadata": {
  "kernelspec": {
   "display_name": "Python 3",
   "language": "python",
   "name": "python3"
  },
  "language_info": {
   "codemirror_mode": {
    "name": "ipython",
    "version": 3
   },
   "file_extension": ".py",
   "mimetype": "text/x-python",
   "name": "python",
   "nbconvert_exporter": "python",
   "pygments_lexer": "ipython3",
   "version": "3.7.4"
  }
 },
 "nbformat": 4,
 "nbformat_minor": 2
}
