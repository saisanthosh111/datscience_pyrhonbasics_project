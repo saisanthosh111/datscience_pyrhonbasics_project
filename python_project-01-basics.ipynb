{
 "cells": [
  {
   "cell_type": "code",
   "execution_count": null,
   "metadata": {},
   "outputs": [
    {
     "name": "stdout",
     "output_type": "stream",
     "text": [
      "Total attempts --> 5 \n",
      "Lost ---> 0\n",
      "number of attempts left --> 5\n",
      "Guess the hidden number\n",
      "-1\n",
      "-------Your guess is smaller than hidden number----------\n",
      "----------Better luck next time-------\n",
      "\n",
      "Total attempts --> 5 \n",
      "Lost ---> 1\n",
      "number of attempts left --> 4\n"
     ]
    }
   ],
   "source": [
    "def Check_win(input_number,hidden_number):\n",
    "    \"\"\"\n",
    "    check whether the guess is correct or not\n",
    "    \n",
    "    parameters :\n",
    "          input_number : int\n",
    "          hidden_number : int\n",
    "    return boolean\n",
    "    \n",
    "    \"\"\"\n",
    "    if input_number==hidden_number:\n",
    "        return True\n",
    "    return False\n",
    "\n",
    "def Check_diff(input_number,hidden_number):\n",
    "    \"\"\"\n",
    "    check whether input is greater or less than hidden number\n",
    "    \n",
    "     parameters :\n",
    "          input_number : int\n",
    "          hidden_number : int\n",
    "          \n",
    "    return string\n",
    "    \n",
    "    \"\"\"\n",
    "    if input_number>hidden_number:\n",
    "        return \"-----Your guess is greater than hidden number---------\"\n",
    "    return \"-------Your guess is smaller than hidden number----------\"\n",
    "\n",
    "\n",
    "import random\n",
    "hidden_number = random.randint(0,100) # ---------generating hidden number ---------\n",
    "\n",
    "\n",
    "if __name__==\"__main__\":\n",
    "    for i in range(5):\n",
    "        print(\"Total attempts --> 5 \\nLost ---> {}\\nnumber of attempts left --> {}\".format((i),(5-(i))))\n",
    "        input_number=int(input(\"Guess the hidden number\\n\"))\n",
    "        \n",
    "        win_or_loss = Check_win(input_number,hidden_number)\n",
    "        if win_or_loss:\n",
    "            print(\"--------You won the game--------\")\n",
    "            break\n",
    "        else:\n",
    "            diff_win = Check_diff(input_number,hidden_number)\n",
    "            print(\"{}\\n----------Better luck next time-------\\n\".format(diff_win))\n",
    "    print(\"The hidden number is {}\".format(hidden_number))    \n",
    "        "
   ]
  },
  {
   "cell_type": "markdown",
   "metadata": {},
   "source": []
  }
 ],
 "metadata": {
  "kernelspec": {
   "display_name": "Python 3",
   "language": "python",
   "name": "python3"
  },
  "language_info": {
   "codemirror_mode": {
    "name": "ipython",
    "version": 3
   },
   "file_extension": ".py",
   "mimetype": "text/x-python",
   "name": "python",
   "nbconvert_exporter": "python",
   "pygments_lexer": "ipython3",
   "version": "3.7.4"
  }
 },
 "nbformat": 4,
 "nbformat_minor": 2
}
